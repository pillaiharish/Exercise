{
 "cells": [
  {
   "cell_type": "code",
   "execution_count": 106,
   "metadata": {},
   "outputs": [],
   "source": [
    "class polygon:\n",
    "    \"\"\"Lets create a class for ploygon then use that class in other Triangle, rectangle and square\"\"\"\n",
    "    # First create a constructor to instantiate variables. \n",
    "    # It gets called whenever a new object of that class is instantiated\n",
    "    def __init__(self,num_of_sides):\n",
    "        self.n= num_of_sides\n",
    "        self.sides= [0 for i in range(self.n)]\n",
    "\n",
    "    def n_of_side(self):\n",
    "        self.sides=[int(input(f'Enter weight for side {str(i+1)}: ')) for i in range(self.n)]\n",
    "        \n",
    "    def disp_sides(self):\n",
    "#         self.n_of_side(self.n)\n",
    "        for i in range(self.n):\n",
    "            print(self.sides[i])\n",
    "    "
   ]
  },
  {
   "cell_type": "code",
   "execution_count": 107,
   "metadata": {},
   "outputs": [
    {
     "data": {
      "text/plain": [
       "'Lets create a class for ploygon then use that class in other Triangle, rectangle and square'"
      ]
     },
     "execution_count": 107,
     "metadata": {},
     "output_type": "execute_result"
    }
   ],
   "source": [
    "polygon.__doc__"
   ]
  },
  {
   "cell_type": "code",
   "execution_count": 108,
   "metadata": {},
   "outputs": [],
   "source": [
    "class triangle(polygon):\n",
    "    # reusing the previous class\n",
    "    def __init__(self):\n",
    "        polygon.__init__(self,3) # Known as method overriding. Requires, nuber of sides = 3\n",
    "    # need a new function for area of triangle\n",
    "    def areaTriangle(self):\n",
    "        a,b,c= self.sides \n",
    "        #perimeter\n",
    "        s=(a+b+c)/2\n",
    "        # area formula\n",
    "        area=(s*(s-a)*(s-b)*(s-c))**0.5\n",
    "        print(\"Area of the triangle is %f\"%area)"
   ]
  },
  {
   "cell_type": "code",
   "execution_count": 111,
   "metadata": {},
   "outputs": [],
   "source": [
    "t=triangle()"
   ]
  },
  {
   "cell_type": "code",
   "execution_count": 112,
   "metadata": {},
   "outputs": [
    {
     "name": "stdout",
     "output_type": "stream",
     "text": [
      "Enter weight for side 1: 23\n",
      "Enter weight for side 2: 34\n",
      "Enter weight for side 3: 12\n"
     ]
    }
   ],
   "source": [
    "t.n_of_side()"
   ]
  },
  {
   "cell_type": "code",
   "execution_count": 113,
   "metadata": {},
   "outputs": [
    {
     "name": "stdout",
     "output_type": "stream",
     "text": [
      "23\n",
      "34\n",
      "12\n"
     ]
    }
   ],
   "source": [
    "t.disp_sides()"
   ]
  },
  {
   "cell_type": "code",
   "execution_count": 114,
   "metadata": {},
   "outputs": [
    {
     "name": "stdout",
     "output_type": "stream",
     "text": [
      "Area of the triangle is 66.808963\n"
     ]
    }
   ],
   "source": [
    "t.areaTriangle()"
   ]
  },
  {
   "cell_type": "markdown",
   "metadata": {},
   "source": [
    "The function isinstance() returns True if the object is an instance of the class or other classes derived from it. Each and every class in Python inherits from the base class object."
   ]
  },
  {
   "cell_type": "code",
   "execution_count": 115,
   "metadata": {},
   "outputs": [
    {
     "data": {
      "text/plain": [
       "True"
      ]
     },
     "execution_count": 115,
     "metadata": {},
     "output_type": "execute_result"
    }
   ],
   "source": [
    "isinstance(t,triangle)\n",
    "# True\n",
    "\n",
    "isinstance(t,polygon)\n",
    "# True\n",
    "\n",
    "isinstance(t,int)\n",
    "# False\n",
    "\n",
    "isinstance(t,object)\n",
    "# True\n"
   ]
  },
  {
   "cell_type": "markdown",
   "metadata": {},
   "source": [
    "Similarly, issubclass() is used to check for class inheritance."
   ]
  },
  {
   "cell_type": "code",
   "execution_count": 117,
   "metadata": {},
   "outputs": [
    {
     "data": {
      "text/plain": [
       "True"
      ]
     },
     "execution_count": 117,
     "metadata": {},
     "output_type": "execute_result"
    }
   ],
   "source": [
    "issubclass(polygon,triangle)\n",
    "# False\n",
    "\n",
    "issubclass(triangle,polygon)\n",
    "# True\n",
    "\n",
    "issubclass(bool,int)\n",
    "# True"
   ]
  },
  {
   "cell_type": "raw",
   "metadata": {},
   "source": [
    "__getitem__ and __setitem__ in Python"
   ]
  },
  {
   "cell_type": "code",
   "execution_count": 127,
   "metadata": {},
   "outputs": [],
   "source": [
    "class bank_account:\n",
    "    def __init__(self,name):\n",
    "        self.record={\n",
    "            'name':name,\n",
    "            'balance':100,\n",
    "            'transaction':[100]\n",
    "        }\n",
    "        \n",
    "    # getter function to get throught keys\n",
    "    def __getitem__(self,key):\n",
    "        return self.record[key]\n",
    "    \n",
    "    # setter function to set the values\n",
    "    def __setitem__(self,key, newValue):\n",
    "        if key=='balance' and newValue!=None and newValue>=100:\n",
    "            self.record[key]+=newValue\n",
    "        elif key=='transaction' and newValue!=None:\n",
    "            self.record[key].append(newValue)\n",
    "            \n",
    "    # to get current balance\n",
    "    def getBalance(self):\n",
    "        return self.__getitem__('balance')\n",
    "    # function to update balance in account.\n",
    "    def updateBalance(self,amount):\n",
    "        self.__setitem__('balance',amount)\n",
    "        self.__setitem__('transaction',amount)\n",
    "        \n",
    "    # function to get Transaction from account.\n",
    "    def transDetails(self):\n",
    "        return self.__getitem__('transaction')\n",
    "        \n",
    "    # function to get number of transactions for the given account.\n",
    "    def numTrans(self):\n",
    "        return len(self.__getitem__('transaction'))\n",
    "\n",
    "        "
   ]
  },
  {
   "cell_type": "code",
   "execution_count": 130,
   "metadata": {},
   "outputs": [
    {
     "name": "stdout",
     "output_type": "stream",
     "text": [
      "Current balance is 100.000000\n",
      "Balance after updating with 200 is 300.000000\n"
     ]
    }
   ],
   "source": [
    "b_a=bank_account('Harish')\n",
    "print(\"Current balance is %f\"%b_a.getBalance())\n",
    "b_a.updateBalance(200)\n",
    "print('Balance after updating with 200 is %f'%b_a.getBalance())"
   ]
  },
  {
   "cell_type": "code",
   "execution_count": 138,
   "metadata": {},
   "outputs": [
    {
     "name": "stdout",
     "output_type": "stream",
     "text": [
      "Transaction details  [100, 200]\n"
     ]
    }
   ],
   "source": [
    "print(\"Current transaction details \",str(b_a.transDetails()))"
   ]
  },
  {
   "cell_type": "code",
   "execution_count": 126,
   "metadata": {},
   "outputs": [
    {
     "data": {
      "text/plain": [
       "2"
      ]
     },
     "execution_count": 126,
     "metadata": {},
     "output_type": "execute_result"
    }
   ],
   "source": [
    "b_a.numTrans()"
   ]
  },
  {
   "cell_type": "markdown",
   "metadata": {},
   "source": [
    "Every class in Python is derived from the __object__ class. \n",
    "\n",
    "In the multiple inheritance scenario, any specified attribute is searched first in the current class. If not found, the search continues into parent classes in depth-first, left-right fashion without searching the same class twice.\n",
    "__Method Resolution Order (MRO).__"
   ]
  },
  {
   "cell_type": "code",
   "execution_count": 139,
   "metadata": {},
   "outputs": [],
   "source": [
    "class Base1:\n",
    "    pass\n",
    "class Base2:\n",
    "    pass\n",
    "class MultiDerived(Base1,Base2):\n",
    "    pass"
   ]
  },
  {
   "cell_type": "code",
   "execution_count": 141,
   "metadata": {},
   "outputs": [
    {
     "data": {
      "text/plain": [
       "(__main__.MultiDerived, __main__.Base1, __main__.Base2, object)"
      ]
     },
     "execution_count": 141,
     "metadata": {},
     "output_type": "execute_result"
    }
   ],
   "source": [
    "MultiDerived.__mro__ # returns a tuple"
   ]
  },
  {
   "cell_type": "code",
   "execution_count": 142,
   "metadata": {},
   "outputs": [
    {
     "data": {
      "text/plain": [
       "[__main__.MultiDerived, __main__.Base1, __main__.Base2, object]"
      ]
     },
     "execution_count": 142,
     "metadata": {},
     "output_type": "execute_result"
    }
   ],
   "source": [
    "MultiDerived.mro() # returns a list"
   ]
  },
  {
   "cell_type": "code",
   "execution_count": 147,
   "metadata": {},
   "outputs": [
    {
     "name": "stdout",
     "output_type": "stream",
     "text": [
      "[<class '__main__.M'>, <class '__main__.A'>, <class '__main__.X'>, <class '__main__.Y'>, <class '__main__.Z'>, <class 'object'>]\n"
     ]
    }
   ],
   "source": [
    "class X:\n",
    "    pass\n",
    "class Y:\n",
    "    pass\n",
    "class Z:\n",
    "    pass\n",
    "class A(X,Y):\n",
    "    pass\n",
    "class B(Y,Z):\n",
    "    pass\n",
    "class M(A,Z):\n",
    "    pass\n",
    "print(M.mro())"
   ]
  },
  {
   "cell_type": "code",
   "execution_count": 24,
   "metadata": {},
   "outputs": [
    {
     "name": "stdout",
     "output_type": "stream",
     "text": [
      "<__main__.Point object at 0x1106792e8>\n"
     ]
    }
   ],
   "source": [
    "class Point():\n",
    "    def __init__(self,x,y):\n",
    "        self.x=x\n",
    "        self.y=y\n",
    "#     def __repr__():\n",
    "#         return self.x,self.y\n",
    "    def __add__(self,o):\n",
    "        return self.x+o.x+self.y+o.y\n",
    "#     def __str__(self):\n",
    "#         return str(self.__add__())\n",
    "\n",
    "p1=Point(1,2)\n",
    "p2=Point(3,4)\n",
    "print(p1)"
   ]
  },
  {
   "cell_type": "code",
   "execution_count": null,
   "metadata": {},
   "outputs": [],
   "source": []
  }
 ],
 "metadata": {
  "kernelspec": {
   "display_name": "Python 3",
   "language": "python",
   "name": "python3"
  },
  "language_info": {
   "codemirror_mode": {
    "name": "ipython",
    "version": 3
   },
   "file_extension": ".py",
   "mimetype": "text/x-python",
   "name": "python",
   "nbconvert_exporter": "python",
   "pygments_lexer": "ipython3",
   "version": "3.6.6"
  }
 },
 "nbformat": 4,
 "nbformat_minor": 4
}
